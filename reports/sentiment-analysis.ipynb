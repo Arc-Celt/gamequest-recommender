{
 "cells": [
  {
   "cell_type": "markdown",
   "metadata": {},
   "source": [
    "## Sentiment Analysis"
   ]
  },
  {
   "cell_type": "code",
   "execution_count": 18,
   "metadata": {},
   "outputs": [],
   "source": [
    "import pandas as pd\n",
    "import numpy as np\n",
    "\n",
    "games = pd.read_csv('../data/processed/games_cleaned.csv')"
   ]
  },
  {
   "cell_type": "code",
   "execution_count": 35,
   "metadata": {},
   "outputs": [
    {
     "name": "stderr",
     "output_type": "stream",
     "text": [
      "Device set to use cuda\n"
     ]
    }
   ],
   "source": [
    "from transformers import pipeline\n",
    "classifier = pipeline(\n",
    "    \"text-classification\", \n",
    "    model=\"j-hartmann/emotion-english-distilroberta-base\", \n",
    "    top_k = None,\n",
    "    truncation=True,  # Automatically truncates to fit the model\n",
    "    device=\"cuda\",\n",
    "    framework=\"pt\"\n",
    ")"
   ]
  },
  {
   "cell_type": "code",
   "execution_count": 36,
   "metadata": {},
   "outputs": [
    {
     "data": {
      "text/plain": [
       "[{'label': 'neutral', 'score': 0.7835099101066589},\n",
       " {'label': 'joy', 'score': 0.11311975121498108},\n",
       " {'label': 'surprise', 'score': 0.06659185886383057},\n",
       " {'label': 'disgust', 'score': 0.01789470575749874},\n",
       " {'label': 'anger', 'score': 0.009464814327657223},\n",
       " {'label': 'sadness', 'score': 0.005986660718917847},\n",
       " {'label': 'fear', 'score': 0.003432320198044181}]"
      ]
     },
     "execution_count": 36,
     "metadata": {},
     "output_type": "execute_result"
    }
   ],
   "source": [
    "sentences = games['about_the_game'][0].split(\".\")\n",
    "predictions = classifier(sentences)\n",
    "predictions[0]"
   ]
  },
  {
   "cell_type": "code",
   "execution_count": 37,
   "metadata": {},
   "outputs": [],
   "source": [
    "emotion_labels = [\"anger\", \"disgust\", \"fear\", \"joy\", \"sadness\", \"surprise\", \"neutral\"]\n",
    "app_id = []\n",
    "emotion_scores = {label: [] for label in emotion_labels}\n",
    "\n",
    "def calculate_max_emotion_scores(predictions):\n",
    "    per_emotion_scores = {label: [] for label in emotion_labels}\n",
    "    for prediction in predictions:\n",
    "        sorted_predictions = sorted(prediction, key=lambda x: x[\"label\"])\n",
    "        for index, label in enumerate(emotion_labels):\n",
    "            per_emotion_scores[label].append(sorted_predictions[index][\"score\"])\n",
    "    return {label: np.max(scores) for label, scores in per_emotion_scores.items()}"
   ]
  },
  {
   "cell_type": "code",
   "execution_count": 38,
   "metadata": {},
   "outputs": [
    {
     "name": "stderr",
     "output_type": "stream",
     "text": [
      "100%|██████████| 90130/90130 [1:09:49<00:00, 21.52it/s]  \n"
     ]
    }
   ],
   "source": [
    "from tqdm import tqdm\n",
    "\n",
    "emotion_labels = [\"anger\", \"disgust\", \"fear\", \"joy\", \"sadness\", \"surprise\", \"neutral\"]\n",
    "app_id = []\n",
    "emotion_scores = {label: [] for label in emotion_labels}\n",
    "\n",
    "for i in tqdm(range(len(games))):\n",
    "    app_id.append(games[\"app_id\"][i])\n",
    "    sentences = games['about_the_game'][i].split(\".\")\n",
    "    predictions = classifier(sentences)\n",
    "    max_scores = calculate_max_emotion_scores(predictions)\n",
    "    for label in emotion_labels:\n",
    "        emotion_scores[label].append(max_scores[label])"
   ]
  },
  {
   "cell_type": "code",
   "execution_count": 39,
   "metadata": {},
   "outputs": [
    {
     "data": {
      "text/html": [
       "<div>\n",
       "<style scoped>\n",
       "    .dataframe tbody tr th:only-of-type {\n",
       "        vertical-align: middle;\n",
       "    }\n",
       "\n",
       "    .dataframe tbody tr th {\n",
       "        vertical-align: top;\n",
       "    }\n",
       "\n",
       "    .dataframe thead th {\n",
       "        text-align: right;\n",
       "    }\n",
       "</style>\n",
       "<table border=\"1\" class=\"dataframe\">\n",
       "  <thead>\n",
       "    <tr style=\"text-align: right;\">\n",
       "      <th></th>\n",
       "      <th>anger</th>\n",
       "      <th>disgust</th>\n",
       "      <th>fear</th>\n",
       "      <th>joy</th>\n",
       "      <th>sadness</th>\n",
       "      <th>surprise</th>\n",
       "      <th>neutral</th>\n",
       "      <th>app_id</th>\n",
       "    </tr>\n",
       "  </thead>\n",
       "  <tbody>\n",
       "    <tr>\n",
       "      <th>0</th>\n",
       "      <td>0.019282</td>\n",
       "      <td>0.017895</td>\n",
       "      <td>0.004198</td>\n",
       "      <td>0.816362</td>\n",
       "      <td>0.947172</td>\n",
       "      <td>0.023381</td>\n",
       "      <td>0.150551</td>\n",
       "      <td>20200</td>\n",
       "    </tr>\n",
       "    <tr>\n",
       "      <th>1</th>\n",
       "      <td>0.913658</td>\n",
       "      <td>0.104007</td>\n",
       "      <td>0.435311</td>\n",
       "      <td>0.198899</td>\n",
       "      <td>0.916418</td>\n",
       "      <td>0.743380</td>\n",
       "      <td>0.307450</td>\n",
       "      <td>655370</td>\n",
       "    </tr>\n",
       "    <tr>\n",
       "      <th>2</th>\n",
       "      <td>0.168709</td>\n",
       "      <td>0.020957</td>\n",
       "      <td>0.006915</td>\n",
       "      <td>0.549593</td>\n",
       "      <td>0.944257</td>\n",
       "      <td>0.007979</td>\n",
       "      <td>0.253707</td>\n",
       "      <td>1732930</td>\n",
       "    </tr>\n",
       "    <tr>\n",
       "      <th>3</th>\n",
       "      <td>0.095404</td>\n",
       "      <td>0.333308</td>\n",
       "      <td>0.816178</td>\n",
       "      <td>0.017172</td>\n",
       "      <td>0.886388</td>\n",
       "      <td>0.032531</td>\n",
       "      <td>0.167621</td>\n",
       "      <td>1355720</td>\n",
       "    </tr>\n",
       "    <tr>\n",
       "      <th>4</th>\n",
       "      <td>0.170290</td>\n",
       "      <td>0.104007</td>\n",
       "      <td>0.238217</td>\n",
       "      <td>0.920194</td>\n",
       "      <td>0.965194</td>\n",
       "      <td>0.200422</td>\n",
       "      <td>0.078766</td>\n",
       "      <td>1139950</td>\n",
       "    </tr>\n",
       "    <tr>\n",
       "      <th>...</th>\n",
       "      <td>...</td>\n",
       "      <td>...</td>\n",
       "      <td>...</td>\n",
       "      <td>...</td>\n",
       "      <td>...</td>\n",
       "      <td>...</td>\n",
       "      <td>...</td>\n",
       "      <td>...</td>\n",
       "    </tr>\n",
       "    <tr>\n",
       "      <th>90125</th>\n",
       "      <td>0.102202</td>\n",
       "      <td>0.708776</td>\n",
       "      <td>0.061535</td>\n",
       "      <td>0.947020</td>\n",
       "      <td>0.948472</td>\n",
       "      <td>0.149724</td>\n",
       "      <td>0.368772</td>\n",
       "      <td>3080940</td>\n",
       "    </tr>\n",
       "    <tr>\n",
       "      <th>90126</th>\n",
       "      <td>0.051505</td>\n",
       "      <td>0.006538</td>\n",
       "      <td>0.028494</td>\n",
       "      <td>0.935088</td>\n",
       "      <td>0.375939</td>\n",
       "      <td>0.014690</td>\n",
       "      <td>0.058292</td>\n",
       "      <td>2593970</td>\n",
       "    </tr>\n",
       "    <tr>\n",
       "      <th>90127</th>\n",
       "      <td>0.454001</td>\n",
       "      <td>0.301669</td>\n",
       "      <td>0.794739</td>\n",
       "      <td>0.187950</td>\n",
       "      <td>0.967745</td>\n",
       "      <td>0.111690</td>\n",
       "      <td>0.285848</td>\n",
       "      <td>3137150</td>\n",
       "    </tr>\n",
       "    <tr>\n",
       "      <th>90128</th>\n",
       "      <td>0.044632</td>\n",
       "      <td>0.160773</td>\n",
       "      <td>0.981339</td>\n",
       "      <td>0.942352</td>\n",
       "      <td>0.877451</td>\n",
       "      <td>0.340593</td>\n",
       "      <td>0.253688</td>\n",
       "      <td>3124670</td>\n",
       "    </tr>\n",
       "    <tr>\n",
       "      <th>90129</th>\n",
       "      <td>0.585778</td>\n",
       "      <td>0.104007</td>\n",
       "      <td>0.338434</td>\n",
       "      <td>0.232051</td>\n",
       "      <td>0.936539</td>\n",
       "      <td>0.111690</td>\n",
       "      <td>0.288538</td>\n",
       "      <td>3054200</td>\n",
       "    </tr>\n",
       "  </tbody>\n",
       "</table>\n",
       "<p>90130 rows × 8 columns</p>\n",
       "</div>"
      ],
      "text/plain": [
       "          anger   disgust      fear       joy   sadness  surprise   neutral  \\\n",
       "0      0.019282  0.017895  0.004198  0.816362  0.947172  0.023381  0.150551   \n",
       "1      0.913658  0.104007  0.435311  0.198899  0.916418  0.743380  0.307450   \n",
       "2      0.168709  0.020957  0.006915  0.549593  0.944257  0.007979  0.253707   \n",
       "3      0.095404  0.333308  0.816178  0.017172  0.886388  0.032531  0.167621   \n",
       "4      0.170290  0.104007  0.238217  0.920194  0.965194  0.200422  0.078766   \n",
       "...         ...       ...       ...       ...       ...       ...       ...   \n",
       "90125  0.102202  0.708776  0.061535  0.947020  0.948472  0.149724  0.368772   \n",
       "90126  0.051505  0.006538  0.028494  0.935088  0.375939  0.014690  0.058292   \n",
       "90127  0.454001  0.301669  0.794739  0.187950  0.967745  0.111690  0.285848   \n",
       "90128  0.044632  0.160773  0.981339  0.942352  0.877451  0.340593  0.253688   \n",
       "90129  0.585778  0.104007  0.338434  0.232051  0.936539  0.111690  0.288538   \n",
       "\n",
       "        app_id  \n",
       "0        20200  \n",
       "1       655370  \n",
       "2      1732930  \n",
       "3      1355720  \n",
       "4      1139950  \n",
       "...        ...  \n",
       "90125  3080940  \n",
       "90126  2593970  \n",
       "90127  3137150  \n",
       "90128  3124670  \n",
       "90129  3054200  \n",
       "\n",
       "[90130 rows x 8 columns]"
      ]
     },
     "execution_count": 39,
     "metadata": {},
     "output_type": "execute_result"
    }
   ],
   "source": [
    "emotions_df = pd.DataFrame(emotion_scores)\n",
    "emotions_df[\"app_id\"] = app_id\n",
    "emotions_df"
   ]
  },
  {
   "cell_type": "code",
   "execution_count": null,
   "metadata": {},
   "outputs": [],
   "source": [
    "games = pd.merge(games, emotions_df, on='app_id')"
   ]
  },
  {
   "cell_type": "code",
   "execution_count": 42,
   "metadata": {},
   "outputs": [],
   "source": [
    "games.to_csv('../data/processed/games_with_emotions.csv', index=False)"
   ]
  }
 ],
 "metadata": {
  "kernelspec": {
   "display_name": "gamequest",
   "language": "python",
   "name": "python3"
  },
  "language_info": {
   "codemirror_mode": {
    "name": "ipython",
    "version": 3
   },
   "file_extension": ".py",
   "mimetype": "text/x-python",
   "name": "python",
   "nbconvert_exporter": "python",
   "pygments_lexer": "ipython3",
   "version": "3.11.11"
  }
 },
 "nbformat": 4,
 "nbformat_minor": 2
}
